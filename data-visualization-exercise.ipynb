{
 "cells": [
  {
   "cell_type": "markdown",
   "id": "57bfb901",
   "metadata": {
    "papermill": {
     "duration": 0.006447,
     "end_time": "2022-12-15T09:03:19.605809",
     "exception": false,
     "start_time": "2022-12-15T09:03:19.599362",
     "status": "completed"
    },
    "tags": []
   },
   "source": [
    "# Hello Seaborn Excercise\n",
    "\n",
    "Exercise: Hello, Seabornの訳です。<br>\n",
    "実行には入力データファイルが必要になります。このノートでは入力データファイルが無くコードセルを実行できないので、すべてMarkdownで記述しています。<br>\n",
    "必要な入力データファイルは、`Exercise: Hello, Seaborn`にあります。"
   ]
  },
  {
   "cell_type": "markdown",
   "id": "0129ce4f",
   "metadata": {
    "papermill": {
     "duration": 0.004081,
     "end_time": "2022-12-15T09:03:19.613530",
     "exception": false,
     "start_time": "2022-12-15T09:03:19.609449",
     "status": "completed"
    },
    "tags": []
   },
   "source": [
    "以下は実行に必要なライブラリのインポートと、本エクササイズで使用するデータファイルの確認を行っています。  \n",
    "`learntools`は、答え合わせ用のライブラリです。\n",
    "\n",
    "~~~\n",
    "import pandas as pd\n",
    "pd.plotting.register_matplotlib_converters()\n",
    "import matplotlib.pyplot as plt\n",
    "%matplotlib inline\n",
    "import seaborn as sns\n",
    "\n",
    "# Set up code checking\n",
    "import os\n",
    "if not os.path.exists(\"../input/fifa.csv\"):\n",
    "    os.symlink(\"../input/data-for-datavis/fifa.csv\", \"../input/fifa.csv\")  \n",
    "\n",
    "from learntools.core import binder\n",
    "binder.bind(globals())\n",
    "\n",
    "from learntools.data_viz_to_coder.ex1 import *\n",
    "print(\"Setup Complete\")\n",
    "~~~"
   ]
  },
  {
   "cell_type": "markdown",
   "id": "8a64a370",
   "metadata": {
    "papermill": {
     "duration": 0.004364,
     "end_time": "2022-12-15T09:03:19.621743",
     "exception": false,
     "start_time": "2022-12-15T09:03:19.617379",
     "status": "completed"
    },
    "tags": []
   },
   "source": [
    "## Step1 : フィードバックシステムの確認\n",
    "各演習では、実際のデータセットを使用して新しいスキルをテストできます。途中で、あなたの作業に対するフィードバックを受け取ることができます。  \n",
    "あなたの作業が正しいかどうかを確認し、ヒントを得たり、公式の解決策を確認できます。\n",
    "\n",
    "~~~\n",
    "# Fill in the line below\n",
    "one = ___\n",
    "\n",
    "# Check your answer\n",
    "step_1.check()\n",
    "~~~\n",
    "\n",
    "フィードバック システムを調べるために、コーディングの問題の簡単な例から始めます。次の手順を順番に実行します。\n",
    "\n",
    "1. 編集を行わずに、以下のコード セルを実行します。次の出力が表示されます。\n",
    "> Check: When you've updated the starter code, check() will tell you whether your code is correct. You need to update the code that creates variable one<br>\n",
    "これは、コードを変更して、変数 one を以下に示す空白以外の値 (____) に設定する必要があることを意味します。\n",
    "\n",
    "1. コード行が one = 2 として表示されるように、下線を 2 に置き換えます。次に、コード セルを実行します。これにより、次の出力が返されます。\n",
    "> Incorrect: Incorrect value for one: 2  \n",
    "これは、質問に対する答えがまだ間違っていることを意味します。\n",
    "\n",
    "1. ここで、2 を 1 に変更して、コード行が one = 1 と表示されるようにします。次に、コード セルを実行します。\n",
    "> 答えは正しいとマークされているはずです。\n"
   ]
  },
  {
   "cell_type": "markdown",
   "id": "0a9a404d",
   "metadata": {
    "papermill": {
     "duration": 0.002464,
     "end_time": "2022-12-15T09:03:19.627438",
     "exception": false,
     "start_time": "2022-12-15T09:03:19.624974",
     "status": "completed"
    },
    "tags": []
   },
   "source": [
    "この演習では、変数 1 の値を設定するコード行を埋める必要がありました。  \n",
    "回答をチェックするコード step_1.check() や step_2.check() などのコード行は編集しないでください。これらは、提供されているとおりに実行する必要があります。\n",
    "\n",
    "この問題は比較的単純でしたが、より難しい問題については、ヒントを受け取ったり、公式の解決策を表示したりすることができます。 以下のコード セルを今すぐ実行して、この問題の両方を受け取ります。\n",
    "\n",
    "~~~\n",
    "step_1.hint()\n",
    "step_1.solution()\n",
    "~~~"
   ]
  },
  {
   "cell_type": "markdown",
   "id": "70d04cb4",
   "metadata": {
    "papermill": {
     "duration": 0.002228,
     "end_time": "2022-12-15T09:03:19.632254",
     "exception": false,
     "start_time": "2022-12-15T09:03:19.630026",
     "status": "completed"
    },
    "tags": []
   },
   "source": [
    "## Step2 : データの読み込み\n",
    "データの可視化を開始する準備が整いました。<br>\n",
    "前のチュートリアルのデータセットを読み込むことから始めます。\n",
    "\n",
    "必要なコードは、下のセルに既に用意されています。<br>\n",
    "そのセルを実行するだけです。 正しい結果が表示されたら、次に進む準備ができています。\n",
    "\n",
    "~~~\n",
    "# Path of the file to read\n",
    "fifa_filepath = \"../input/fifa.csv\"\n",
    "\n",
    "# Read the file into a variable fifa_data\n",
    "fifa_data = pd.read_csv(fifa_filepath, index_col=\"Date\", parse_dates=True)\n",
    "\n",
    "# Check your answer\n",
    "step_2.check()\n",
    "~~~\n",
    "\n",
    "コメントと実行可能コードの違いを思い出してください。\n",
    "\n",
    "1. コメントの先頭にはポンド記号 (#) が付き、テキストが薄くなってイタリック体で表示されます。 コードの実行時に、これらはコンピューターによって完全に無視されます。\n",
    "1. 実行可能コードは、コンピューターによって実行されるコードです。\n",
    "\n",
    "以下のコード セルでは、すべての行がコメントです。\n",
    "\n",
    "~~~\n",
    "# 以下の行のコメントを外すと、ヒントが表示されます\n",
    "#step_2.hint()\n",
    "#step_2.solution()\n",
    "~~~\n",
    "\n",
    "コード セルを変更せずに実行すると、出力は返されません。 今すぐこれを試してください！\n",
    "~~~\n",
    "# Uncomment the line below to receive a hint\n",
    "#step_2.hint()\n",
    "# Uncomment the line below to see the solution\n",
    "#step_2.solution()\n",
    "~~~\n",
    "\n",
    "次に、step_2.hint() の前のポンド記号を削除して、上記のコード セルが次のように表示されるようにします。\n",
    "~~~\n",
    "# 以下の行のコメントを外すと、ヒントが表示されます\n",
    "step_2.hint()\n",
    "#step_2.solution()\n",
    "~~~\n",
    "\n",
    "コード行の前にあるポンド記号を削除すると、その行のコメントを解除したと言います。<br>\n",
    "これにより、コメントが、コンピューターによって実行される実行可能コードの行に変わります。<br>\n",
    "ここでコード セルを実行すると、ヒントが出力として返されます。\n",
    "\n",
    "最後に、行のコメントを外して解決策を確認すると、コード セルは次のようになります。\n",
    "~~~\n",
    "# 以下の行のコメントを外すと、ヒントが表示されます\n",
    "step_2.hint()\n",
    "step_2.solution()\n",
    "~~~\n",
    "\n",
    "次に、コード セルを実行します。 ヒントと解決策の両方を受け取る必要があります。\n",
    "\n",
    "問題の正しい答えが思いつかない場合は、セルを完成させる前にヒントまたは解決策を入手してください。 (したがって、ヒントまたはソリューションを提供するコードを実行する前に、正しい結果を取得する必要はありません。)"
   ]
  },
  {
   "cell_type": "markdown",
   "id": "680b3a87",
   "metadata": {
    "papermill": {
     "duration": 0.004082,
     "end_time": "2022-12-15T09:03:19.640145",
     "exception": false,
     "start_time": "2022-12-15T09:03:19.636063",
     "status": "completed"
    },
    "tags": []
   },
   "source": [
    "## Step3 : データのプロット\n",
    "データがノートブックに読み込まれたので、可視化する準備が整いました。\n",
    "\n",
    "次のコード セルを変更せずに実行して、折れ線グラフを作成します。<br>\n",
    "コードはまだ意味をなさないかもしれません - 次のチュートリアルですべてを学びます!\n",
    "\n",
    "~~~\n",
    "# Set the width and height of the figure\n",
    "plt.figure(figsize=(16,6))\n",
    "\n",
    "# Line chart showing how FIFA rankings evolved over time\n",
    "sns.lineplot(data=fifa_data)\n",
    "\n",
    "# Check your answer\n",
    "step_3.a.check()\n",
    "~~~\n",
    "\n",
    "一部の問題では、コードを記述する必要はありません。 代わりに、実行結果（可視化したグラフ）を解釈します。\n",
    "\n",
    "例として、質問を考えてみましょう: データセットに示されている年だけを考慮して、1 位にランクされた場所で少なくとも 5 年連続して過ごした国はどれですか?\n",
    "\n",
    "ヒントを受け取るには、以下の行のコメントを解除し、コード セルを実行します。\n",
    "\n",
    "~~~\n",
    "#step_3.b.hint()\n",
    "~~~\n",
    "\n",
    "答えが分かったら、解答をチェックして、問題を完成させた功績を認め、自分の解釈が正しいことを確認してください。\n",
    "\n",
    "~~~\n",
    "# Check your answer (Run this code cell to receive credit!)\n",
    "step_3.b.solution()\n",
    "~~~\n",
    "\n",
    "おめでとうございます - 最初のコーディング演習が完了しました!"
   ]
  }
 ],
 "metadata": {
  "kernelspec": {
   "display_name": "Python 3",
   "language": "python",
   "name": "python3"
  },
  "language_info": {
   "codemirror_mode": {
    "name": "ipython",
    "version": 3
   },
   "file_extension": ".py",
   "mimetype": "text/x-python",
   "name": "python",
   "nbconvert_exporter": "python",
   "pygments_lexer": "ipython3",
   "version": "3.7.12"
  },
  "papermill": {
   "default_parameters": {},
   "duration": 11.495538,
   "end_time": "2022-12-15T09:03:20.376275",
   "environment_variables": {},
   "exception": null,
   "input_path": "__notebook__.ipynb",
   "output_path": "__notebook__.ipynb",
   "parameters": {},
   "start_time": "2022-12-15T09:03:08.880737",
   "version": "2.3.4"
  }
 },
 "nbformat": 4,
 "nbformat_minor": 5
}
