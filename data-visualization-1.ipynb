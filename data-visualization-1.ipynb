{
 "cells": [
  {
   "cell_type": "markdown",
   "id": "f4e85a19",
   "metadata": {
    "papermill": {
     "duration": 0.002997,
     "end_time": "2022-12-14T09:17:39.262120",
     "exception": false,
     "start_time": "2022-12-14T09:17:39.259123",
     "status": "completed"
    },
    "tags": []
   },
   "source": [
    "# Hello Seaborn"
   ]
  },
  {
   "cell_type": "markdown",
   "id": "45fa35a9",
   "metadata": {
    "papermill": {
     "duration": 0.001795,
     "end_time": "2022-12-14T09:17:39.266191",
     "exception": false,
     "start_time": "2022-12-14T09:17:39.264396",
     "status": "completed"
    },
    "tags": []
   },
   "source": [
    "この実践コースでは、パワフルで使いやすいデータ可視化ツールであるseabornを使い、データ可視化を次のレベルに引き上げる方法を学びます。\n",
    "seabornを使うために、人気のプログラミング言語であるPythonでコードを書く方法も少し学びます。\n",
    "\n",
    "各チャートは短くシンプルなコードを使用しています。\n",
    "seabornは他の多くのデータ可視化ツール（例えばExcelなど）よりもはるかに速く、簡単に使用することができます。\n",
    "\n",
    "以下はseabornで作成できるグラフの例:  \n",
    "**(図は省略）**"
   ]
  },
  {
   "cell_type": "markdown",
   "id": "925f4a52",
   "metadata": {
    "papermill": {
     "duration": 0.001965,
     "end_time": "2022-12-14T09:17:39.270945",
     "exception": false,
     "start_time": "2022-12-14T09:17:39.268980",
     "status": "completed"
    },
    "tags": []
   },
   "source": [
    "## コーディング環境\n",
    "今すぐ時間をとって、このページを上下にすばやくスクロールしてください。様々な種類の情報があることにお気づきでしょう。\n",
    "\n",
    "1. テキスト\n",
    "1. コード\n",
    "1. コードの出力(対応するコードのすぐ下に出力される印刷結果)\n",
    "\n",
    "このようなページをJupyterノートブック（または単にノートブック）と呼びます。  \n",
    "ミニコースではこのノートブックを使って作業を行います。下の画像はノートブックの一例です。  \n",
    "**(図は省略)**"
   ]
  },
  {
   "cell_type": "markdown",
   "id": "a1b1033d",
   "metadata": {
    "papermill": {
     "duration": 0.001788,
     "end_time": "2022-12-14T09:17:39.274879",
     "exception": false,
     "start_time": "2022-12-14T09:17:39.273091",
     "status": "completed"
    },
    "tags": []
   },
   "source": [
    "## ノートブックのセットアップ\n",
    "コーディング環境を整えるために、すべてのノートブックの先頭で実行する必要があるコード行がいくつかあります。  \n",
    "これらのコード行を理解することは重要ではないので、まだ詳細には触れません。(出力として Setup Complete を返していることに注意してください)。"
   ]
  },
  {
   "cell_type": "markdown",
   "id": "2849a237",
   "metadata": {
    "papermill": {
     "duration": 0.001791,
     "end_time": "2022-12-14T09:17:39.278792",
     "exception": false,
     "start_time": "2022-12-14T09:17:39.277001",
     "status": "completed"
    },
    "tags": []
   },
   "source": [
    "~~~\n",
    "import pandas as pd\n",
    "pd.plotting.register_matplotlib_converters()\n",
    "\n",
    "import matplotlib.pyplot as plt\n",
    "%matplotlib inline\n",
    "\n",
    "import seaborn as sns\n",
    "print(\"Setup Complete\")\n",
    "~~~"
   ]
  },
  {
   "cell_type": "markdown",
   "id": "8692c996",
   "metadata": {
    "papermill": {
     "duration": 0.001782,
     "end_time": "2022-12-14T09:17:39.282796",
     "exception": false,
     "start_time": "2022-12-14T09:17:39.281014",
     "status": "completed"
    },
    "tags": []
   },
   "source": [
    "## データ読み込み\n",
    "このノートでは、6つの国の歴史的なFIFAランキングのデータセットを扱います。  \n",
    "アルゼンチン（ARG）、ブラジル（BRA）、スペイン（ESP）、フランス（FRA）、ドイツ（GER）、そしてイタリア（ITA）です。  \n",
    "データセットはCSVファイル（comma-separated values fileの略）として保存されています。  \n",
    "CSVファイルをエクセルで開くと、日付ごとに1行、国ごとに1列が表示されます。\n",
    "\n",
    "ノートブックにデータを読み込むには，次のような2つの異なるステップを使用します。\n",
    "1. データセットにアクセスできる場所（ファイルパス）を指定\n",
    "1. そのファイルパスを使って、データセットの内容をノートブックに読み込む"
   ]
  },
  {
   "cell_type": "markdown",
   "id": "3a3262e3",
   "metadata": {
    "papermill": {
     "duration": 0.00175,
     "end_time": "2022-12-14T09:17:39.286627",
     "exception": false,
     "start_time": "2022-12-14T09:17:39.284877",
     "status": "completed"
    },
    "tags": []
   },
   "source": [
    "```\n",
    "# 読み込む対象のパス\n",
    "fifa_filepath = \"../input/fifa.csv\"\n",
    "\n",
    "# 変数fifa_dataに読み込む\n",
    "fifa_data = pd.read_csv(fifa_filepath, index_col=\"Date\", parse_dates=True)\n",
    "```"
   ]
  },
  {
   "cell_type": "markdown",
   "id": "e82a94fd",
   "metadata": {
    "papermill": {
     "duration": 0.001761,
     "end_time": "2022-12-14T09:17:39.290468",
     "exception": false,
     "start_time": "2022-12-14T09:17:39.288707",
     "status": "completed"
    },
    "tags": []
   },
   "source": [
    "### コメント\n",
    "コメントは、先頭にシャープ記号(#)があり、斜体で表示されます。  \n",
    "コードを実行したときにコンピュータによって完全に無視されるため、コードを読む人間がすぐに理解できるようにここに表示されているだけです。  \n",
    "この2行をコメントと呼び、コードを読みやすくするために含めるのがよい習慣です。\n",
    "\n",
    "### 実行コード\n",
    "残りの2行は実行コード、つまりコンピュータが実行するコードです。（この場合、データセットを見つけてロードする）\n",
    "\n",
    "最初の行では、fifa_filepath の値を、データセットにアクセスできる場所に設定しています。  \n",
    "この場合、ファイルパスは（引用符で囲んで）提供しています。  \n",
    "この実行コードの行のすぐ上のコメントには、このコードが何をするのかが簡単に説明されていることに注意してください!\n",
    "\n",
    "2 行目では、fifa_data の値を設定して、データセットのすべての情報を格納します。  \n",
    "これは pd.read_csv() で行われます。read_csv()は３つのパラメータを取ります。\n",
    "\n",
    "* fifa_filepath - データセットのファイルパスを常に最初に指定する必要があります\n",
    "* index_col=\"Date\" - データセットを読み込むとき、最初の列の各エントリーが異なる行を示すようにしたい。そのために、index_colの値を最初の列の名前（Excelでファイルを開いたときのセルA1にある「Date」）に設定する。\n",
    "* parse_dates=True - これは、各行のラベルを（数字や他の意味のあるテキストではなく）日付として理解するように、ノートブックに指示します。"
   ]
  }
 ],
 "metadata": {
  "kernelspec": {
   "display_name": "Python 3",
   "language": "python",
   "name": "python3"
  },
  "language_info": {
   "codemirror_mode": {
    "name": "ipython",
    "version": 3
   },
   "file_extension": ".py",
   "mimetype": "text/x-python",
   "name": "python",
   "nbconvert_exporter": "python",
   "pygments_lexer": "ipython3",
   "version": "3.7.12"
  },
  "papermill": {
   "default_parameters": {},
   "duration": 8.67905,
   "end_time": "2022-12-14T09:17:39.913840",
   "environment_variables": {},
   "exception": null,
   "input_path": "__notebook__.ipynb",
   "output_path": "__notebook__.ipynb",
   "parameters": {},
   "start_time": "2022-12-14T09:17:31.234790",
   "version": "2.3.4"
  }
 },
 "nbformat": 4,
 "nbformat_minor": 5
}
