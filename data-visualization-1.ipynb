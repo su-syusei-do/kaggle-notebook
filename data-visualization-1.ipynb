{
 "cells": [
  {
   "cell_type": "markdown",
   "id": "775391bf",
   "metadata": {
    "papermill": {
     "duration": 0.003731,
     "end_time": "2022-12-15T08:02:59.173373",
     "exception": false,
     "start_time": "2022-12-15T08:02:59.169642",
     "status": "completed"
    },
    "tags": []
   },
   "source": [
    "# Hello Seaborn"
   ]
  },
  {
   "cell_type": "markdown",
   "id": "7b22725c",
   "metadata": {
    "papermill": {
     "duration": 0.002291,
     "end_time": "2022-12-15T08:02:59.178532",
     "exception": false,
     "start_time": "2022-12-15T08:02:59.176241",
     "status": "completed"
    },
    "tags": []
   },
   "source": [
    "この実践コースでは、パワフルで使いやすいデータ可視化ツールであるseabornを使い、データ可視化を次のレベルに引き上げる方法を学びます。\n",
    "seabornを使うために、人気のプログラミング言語であるPythonでコードを書く方法も少し学びます。\n",
    "\n",
    "各チャートは短くシンプルなコードを使用しています。\n",
    "seabornは他の多くのデータ可視化ツール（例えばExcelなど）よりもはるかに速く、簡単に使用することができます。\n",
    "\n",
    "以下はseabornで作成できるグラフの例:  \n",
    "**(図は省略）**"
   ]
  },
  {
   "cell_type": "markdown",
   "id": "60898e72",
   "metadata": {
    "papermill": {
     "duration": 0.002084,
     "end_time": "2022-12-15T08:02:59.183132",
     "exception": false,
     "start_time": "2022-12-15T08:02:59.181048",
     "status": "completed"
    },
    "tags": []
   },
   "source": [
    "## コーディング環境\n",
    "今すぐ時間をとって、このページを上下にすばやくスクロールしてください。様々な種類の情報があることにお気づきでしょう。\n",
    "\n",
    "1. テキスト\n",
    "1. コード\n",
    "1. コードの出力(対応するコードのすぐ下に出力される印刷結果)\n",
    "\n",
    "このようなページをJupyterノートブック（または単にノートブック）と呼びます。  \n",
    "ミニコースではこのノートブックを使って作業を行います。下の画像はノートブックの一例です。  \n",
    "**(図は省略)**"
   ]
  },
  {
   "cell_type": "markdown",
   "id": "e8ed4e56",
   "metadata": {
    "papermill": {
     "duration": 0.002051,
     "end_time": "2022-12-15T08:02:59.187545",
     "exception": false,
     "start_time": "2022-12-15T08:02:59.185494",
     "status": "completed"
    },
    "tags": []
   },
   "source": [
    "## ノートブックのセットアップ\n",
    "コーディング環境を整えるために、すべてのノートブックの先頭で実行する必要があるコード行がいくつかあります。  \n",
    "これらのコード行を理解することは重要ではないので、まだ詳細には触れません。(出力として Setup Complete を返していることに注意してください)。\n",
    "\n",
    "~~~\n",
    "import pandas as pd\n",
    "pd.plotting.register_matplotlib_converters()\n",
    "\n",
    "import matplotlib.pyplot as plt\n",
    "%matplotlib inline\n",
    "\n",
    "import seaborn as sns\n",
    "print(\"Setup Complete\")\n",
    "~~~"
   ]
  },
  {
   "cell_type": "markdown",
   "id": "3de21816",
   "metadata": {
    "papermill": {
     "duration": 0.002047,
     "end_time": "2022-12-15T08:02:59.191902",
     "exception": false,
     "start_time": "2022-12-15T08:02:59.189855",
     "status": "completed"
    },
    "tags": []
   },
   "source": [
    "## データ読み込み\n",
    "このノートでは、6つの国の歴史的なFIFAランキングのデータセットを扱います。  \n",
    "アルゼンチン（ARG）、ブラジル（BRA）、スペイン（ESP）、フランス（FRA）、ドイツ（GER）、そしてイタリア（ITA）です。  \n",
    "データセットはCSVファイル（comma-separated values fileの略）として保存されています。  \n",
    "CSVファイルをエクセルで開くと、日付ごとに1行、国ごとに1列が表示されます。\n",
    "\n",
    "ノートブックにデータを読み込むには，次のような2つの異なるステップを使用します。\n",
    "1. データセットにアクセスできる場所（ファイルパス）を指定\n",
    "1. そのファイルパスを使って、データセットの内容をノートブックに読み込む\n",
    "\n",
    "```\n",
    "# 読み込む対象のパス\n",
    "fifa_filepath = \"../input/fifa.csv\"\n",
    "\n",
    "# 変数fifa_dataに読み込む\n",
    "fifa_data = pd.read_csv(fifa_filepath, index_col=\"Date\", parse_dates=True)\n",
    "```\n",
    "\n",
    "### コメント\n",
    "コメントは、先頭にシャープ記号(#)があり、斜体で表示されます。  \n",
    "コードを実行したときにコンピュータによって完全に無視されるため、コードを読む人間がすぐに理解できるようにここに表示されているだけです。  \n",
    "この2行をコメントと呼び、コードを読みやすくするために含めるのがよい習慣です。\n",
    "\n",
    "### 実行コード\n",
    "残りの2行は実行コード、つまりコンピュータが実行するコードです。（この場合、データセットを見つけてロードする）\n",
    "\n",
    "最初の行では、fifa_filepath の値を、データセットにアクセスできる場所に設定しています。  \n",
    "この場合、ファイルパスは（引用符で囲んで）提供しています。  \n",
    "この実行コードの行のすぐ上のコメントには、このコードが何をするのかが簡単に説明されていることに注意してください!\n",
    "\n",
    "2 行目では、fifa_data の値を設定して、データセットのすべての情報を格納します。  \n",
    "これは pd.read_csv() で行われます。read_csv()は３つのパラメータを取ります。\n",
    "\n",
    "* fifa_filepath - データセットのファイルパスを常に最初に指定する必要があります\n",
    "* index_col=\"Date\" - データセットを読み込むとき、最初の列の各エントリーが異なる行を示すようにしたい。そのために、index_colの値を最初の列の名前（Excelでファイルを開いたときのセルA1にある「Date」）に設定する。\n",
    "* parse_dates=True - これは、各行のラベルを（数字や他の意味のあるテキストではなく）日付として理解するように、ノートブックに指示します。\n",
    "\n",
    "これらの詳細は、実際の演習で独自のデータセットをロードする機会があればすぐに理解できるようになります。  \n",
    "今のところ、上記のコード行を実行した結果、fifa_data を使用してノートブックからデータセットにアクセスできるようになったことを覚えておくことが重要です。\n",
    "\n",
    "ところで、これらのコード行には出力がないことに気付いたかもしれません (ノートブックで以前に実行したコード行は、出力として Setup Complete を返しました)。  \n",
    "これは予想される動作です。すべてのコードが出力を返すわけではありません。このコードはその代表的な例です。"
   ]
  },
  {
   "cell_type": "markdown",
   "id": "45a2a840",
   "metadata": {
    "papermill": {
     "duration": 0.002044,
     "end_time": "2022-12-15T08:02:59.196332",
     "exception": false,
     "start_time": "2022-12-15T08:02:59.194288",
     "status": "completed"
    },
    "tags": []
   },
   "source": [
    "## データを調べる\n",
    "ここで、fifa_data のデータセットを簡単に見て、適切にロードされていることを確認します。  \n",
    "次のように 1 行のコードを記述することで、データセットの最初の 5 行を出力します。  \n",
    "データセットを含む変数 (この場合は fifa_data) から始め、次に .head()を続けます。\n",
    "\n",
    "以下のコード行でこれを確認できます。\n",
    "```\n",
    "fifa_data.head()\n",
    "```\n",
    "\n",
    "最初の 5 行が、上記のデータセットのイメージ (Excel でどのように表示されるかを確認したとき) と一致することを確認します。"
   ]
  },
  {
   "cell_type": "markdown",
   "id": "0adf011d",
   "metadata": {
    "papermill": {
     "duration": 0.002052,
     "end_time": "2022-12-15T08:02:59.200683",
     "exception": false,
     "start_time": "2022-12-15T08:02:59.198631",
     "status": "completed"
    },
    "tags": []
   },
   "source": [
    "## データをプロットする\n",
    "このコースでは、さまざまなデータのプロットについて学習します。  \n",
    "多くの場合、チャートを作成するために必要なコードは 1 行だけです。  \n",
    "学習内容を少しだけ確認するには、折れ線グラフを生成する以下のコードを確認してください。\n",
    "\n",
    "```\n",
    "# 図形の幅と高さを設定する\n",
    "plt.figure(figsize=(16,6))\n",
    "\n",
    "# FIFAランキングが時間の経過とともにどのように変化したかを示す折れ線グラフ\n",
    "sns.lineplot(data=fifa_data)\n",
    "```\n",
    "\n",
    "このコードはまだ意味を成していません。これについては、今後のチュートリアルで詳しく説明します。  \n",
    "ここでは、最初の演習に進みます。この演習では、コーディング環境を自分で試す機会が得られます。"
   ]
  },
  {
   "cell_type": "markdown",
   "id": "897e3aea",
   "metadata": {
    "papermill": {
     "duration": 0.002007,
     "end_time": "2022-12-15T08:02:59.204964",
     "exception": false,
     "start_time": "2022-12-15T08:02:59.202957",
     "status": "completed"
    },
    "tags": []
   },
   "source": []
  }
 ],
 "metadata": {
  "kernelspec": {
   "display_name": "Python 3",
   "language": "python",
   "name": "python3"
  },
  "language_info": {
   "codemirror_mode": {
    "name": "ipython",
    "version": 3
   },
   "file_extension": ".py",
   "mimetype": "text/x-python",
   "name": "python",
   "nbconvert_exporter": "python",
   "pygments_lexer": "ipython3",
   "version": "3.7.12"
  },
  "papermill": {
   "default_parameters": {},
   "duration": 12.232775,
   "end_time": "2022-12-15T08:02:59.931557",
   "environment_variables": {},
   "exception": null,
   "input_path": "__notebook__.ipynb",
   "output_path": "__notebook__.ipynb",
   "parameters": {},
   "start_time": "2022-12-15T08:02:47.698782",
   "version": "2.3.4"
  }
 },
 "nbformat": 4,
 "nbformat_minor": 5
}
